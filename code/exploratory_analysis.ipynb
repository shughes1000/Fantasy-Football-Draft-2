{
 "cells": [
  {
   "cell_type": "markdown",
   "id": "00103fe8",
   "metadata": {},
   "source": [
    "# Exploratory Analysis"
   ]
  },
  {
   "cell_type": "markdown",
   "id": "02092cae",
   "metadata": {},
   "source": [
    "Load in data"
   ]
  },
  {
   "cell_type": "code",
   "execution_count": 1,
   "id": "b682be91",
   "metadata": {},
   "outputs": [],
   "source": [
    "import pandas as pd"
   ]
  },
  {
   "cell_type": "code",
   "execution_count": 2,
   "id": "2b2b7dd7",
   "metadata": {},
   "outputs": [
    {
     "data": {
      "text/html": [
       "<div>\n",
       "<style scoped>\n",
       "    .dataframe tbody tr th:only-of-type {\n",
       "        vertical-align: middle;\n",
       "    }\n",
       "\n",
       "    .dataframe tbody tr th {\n",
       "        vertical-align: top;\n",
       "    }\n",
       "\n",
       "    .dataframe thead th {\n",
       "        text-align: right;\n",
       "    }\n",
       "</style>\n",
       "<table border=\"1\" class=\"dataframe\">\n",
       "  <thead>\n",
       "    <tr style=\"text-align: right;\">\n",
       "      <th></th>\n",
       "      <th>rank_adp</th>\n",
       "      <th>player</th>\n",
       "      <th>pos</th>\n",
       "      <th>espn</th>\n",
       "      <th>rtsports</th>\n",
       "      <th>mfl</th>\n",
       "      <th>fantrax</th>\n",
       "      <th>ffc</th>\n",
       "      <th>sleeper</th>\n",
       "      <th>avg_adp</th>\n",
       "      <th>year</th>\n",
       "      <th>rank_scoring</th>\n",
       "      <th>team</th>\n",
       "      <th>points</th>\n",
       "      <th>games</th>\n",
       "      <th>avg_scoring</th>\n",
       "    </tr>\n",
       "  </thead>\n",
       "  <tbody>\n",
       "    <tr>\n",
       "      <th>1</th>\n",
       "      <td>2</td>\n",
       "      <td>Adrian Peterson</td>\n",
       "      <td>RB</td>\n",
       "      <td>NaN</td>\n",
       "      <td>2.0</td>\n",
       "      <td>2.0</td>\n",
       "      <td>2.0</td>\n",
       "      <td>1.0</td>\n",
       "      <td>NaN</td>\n",
       "      <td>1.8</td>\n",
       "      <td>2015.0</td>\n",
       "      <td>29.0</td>\n",
       "      <td>MIN</td>\n",
       "      <td>246.9</td>\n",
       "      <td>15.0</td>\n",
       "      <td>16.5</td>\n",
       "    </tr>\n",
       "    <tr>\n",
       "      <th>2</th>\n",
       "      <td>3</td>\n",
       "      <td>Antonio Brown</td>\n",
       "      <td>WR</td>\n",
       "      <td>NaN</td>\n",
       "      <td>4.0</td>\n",
       "      <td>5.0</td>\n",
       "      <td>4.0</td>\n",
       "      <td>2.0</td>\n",
       "      <td>NaN</td>\n",
       "      <td>3.8</td>\n",
       "      <td>2015.0</td>\n",
       "      <td>3.0</td>\n",
       "      <td>PIT</td>\n",
       "      <td>346.5</td>\n",
       "      <td>15.0</td>\n",
       "      <td>23.1</td>\n",
       "    </tr>\n",
       "    <tr>\n",
       "      <th>4</th>\n",
       "      <td>5</td>\n",
       "      <td>Eddie Lacy</td>\n",
       "      <td>RB</td>\n",
       "      <td>NaN</td>\n",
       "      <td>3.0</td>\n",
       "      <td>4.0</td>\n",
       "      <td>5.0</td>\n",
       "      <td>4.0</td>\n",
       "      <td>NaN</td>\n",
       "      <td>4.0</td>\n",
       "      <td>2015.0</td>\n",
       "      <td>135.0</td>\n",
       "      <td>GB</td>\n",
       "      <td>134.5</td>\n",
       "      <td>14.0</td>\n",
       "      <td>9.6</td>\n",
       "    </tr>\n",
       "    <tr>\n",
       "      <th>6</th>\n",
       "      <td>7</td>\n",
       "      <td>Julio Jones</td>\n",
       "      <td>WR</td>\n",
       "      <td>NaN</td>\n",
       "      <td>7.0</td>\n",
       "      <td>9.0</td>\n",
       "      <td>9.0</td>\n",
       "      <td>6.0</td>\n",
       "      <td>NaN</td>\n",
       "      <td>7.8</td>\n",
       "      <td>2015.0</td>\n",
       "      <td>2.0</td>\n",
       "      <td>ATL</td>\n",
       "      <td>351.2</td>\n",
       "      <td>15.0</td>\n",
       "      <td>23.4</td>\n",
       "    </tr>\n",
       "    <tr>\n",
       "      <th>7</th>\n",
       "      <td>8</td>\n",
       "      <td>Dez Bryant</td>\n",
       "      <td>WR</td>\n",
       "      <td>NaN</td>\n",
       "      <td>10.0</td>\n",
       "      <td>8.0</td>\n",
       "      <td>7.0</td>\n",
       "      <td>7.0</td>\n",
       "      <td>NaN</td>\n",
       "      <td>8.0</td>\n",
       "      <td>2015.0</td>\n",
       "      <td>240.0</td>\n",
       "      <td>DAL</td>\n",
       "      <td>89.1</td>\n",
       "      <td>9.0</td>\n",
       "      <td>9.9</td>\n",
       "    </tr>\n",
       "  </tbody>\n",
       "</table>\n",
       "</div>"
      ],
      "text/plain": [
       "   rank_adp           player pos  espn  rtsports  mfl  fantrax  ffc  sleeper  \\\n",
       "1         2  Adrian Peterson  RB   NaN       2.0  2.0      2.0  1.0      NaN   \n",
       "2         3    Antonio Brown  WR   NaN       4.0  5.0      4.0  2.0      NaN   \n",
       "4         5       Eddie Lacy  RB   NaN       3.0  4.0      5.0  4.0      NaN   \n",
       "6         7      Julio Jones  WR   NaN       7.0  9.0      9.0  6.0      NaN   \n",
       "7         8       Dez Bryant  WR   NaN      10.0  8.0      7.0  7.0      NaN   \n",
       "\n",
       "   avg_adp    year  rank_scoring team  points  games  avg_scoring  \n",
       "1      1.8  2015.0          29.0  MIN   246.9   15.0         16.5  \n",
       "2      3.8  2015.0           3.0  PIT   346.5   15.0         23.1  \n",
       "4      4.0  2015.0         135.0   GB   134.5   14.0          9.6  \n",
       "6      7.8  2015.0           2.0  ATL   351.2   15.0         23.4  \n",
       "7      8.0  2015.0         240.0  DAL    89.1    9.0          9.9  "
      ]
     },
     "execution_count": 2,
     "metadata": {},
     "output_type": "execute_result"
    }
   ],
   "source": [
    "df = pd.read_pickle(\"fp_data.pkl\")\n",
    "df.head()"
   ]
  },
  {
   "cell_type": "code",
   "execution_count": 4,
   "id": "e9f4fcb1",
   "metadata": {},
   "outputs": [
    {
     "name": "stdout",
     "output_type": "stream",
     "text": [
      "<class 'pandas.core.frame.DataFrame'>\n",
      "Int64Index: 1473 entries, 1 to 3813\n",
      "Data columns (total 16 columns):\n",
      " #   Column        Non-Null Count  Dtype  \n",
      "---  ------        --------------  -----  \n",
      " 0   rank_adp      1473 non-null   int64  \n",
      " 1   player        1473 non-null   object \n",
      " 2   pos           1473 non-null   object \n",
      " 3   espn          952 non-null    float64\n",
      " 4   rtsports      1056 non-null   float64\n",
      " 5   mfl           1190 non-null   float64\n",
      " 6   fantrax       1415 non-null   float64\n",
      " 7   ffc           1129 non-null   float64\n",
      " 8   sleeper       203 non-null    float64\n",
      " 9   avg_adp       1473 non-null   float64\n",
      " 10  year          1473 non-null   float64\n",
      " 11  rank_scoring  1473 non-null   float64\n",
      " 12  team          1473 non-null   object \n",
      " 13  points        1473 non-null   float64\n",
      " 14  games         1473 non-null   float64\n",
      " 15  avg_scoring   1473 non-null   float64\n",
      "dtypes: float64(12), int64(1), object(3)\n",
      "memory usage: 195.6+ KB\n"
     ]
    }
   ],
   "source": [
    "df.info()"
   ]
  },
  {
   "cell_type": "markdown",
   "id": "eaf22d80",
   "metadata": {},
   "source": [
    "Check VIF"
   ]
  },
  {
   "cell_type": "code",
   "execution_count": 3,
   "id": "23e115e4",
   "metadata": {},
   "outputs": [],
   "source": [
    "from statsmodels.stats.outliers_influence import variance_inflation_factor"
   ]
  },
  {
   "cell_type": "code",
   "execution_count": 7,
   "id": "ab7d0640",
   "metadata": {},
   "outputs": [],
   "source": [
    "# X = df[[\"rank_adp\", \"espn\", \"rtsports\", \"mfl\", \"fantrax\", \"ffc\", \"sleeper\"]]\n",
    "X = df[[\"rank_adp\", \"avg_adp\"]]"
   ]
  },
  {
   "cell_type": "code",
   "execution_count": 8,
   "id": "2c512fed",
   "metadata": {},
   "outputs": [
    {
     "data": {
      "text/html": [
       "<div>\n",
       "<style scoped>\n",
       "    .dataframe tbody tr th:only-of-type {\n",
       "        vertical-align: middle;\n",
       "    }\n",
       "\n",
       "    .dataframe tbody tr th {\n",
       "        vertical-align: top;\n",
       "    }\n",
       "\n",
       "    .dataframe thead th {\n",
       "        text-align: right;\n",
       "    }\n",
       "</style>\n",
       "<table border=\"1\" class=\"dataframe\">\n",
       "  <thead>\n",
       "    <tr style=\"text-align: right;\">\n",
       "      <th></th>\n",
       "      <th>feature</th>\n",
       "      <th>VIF</th>\n",
       "    </tr>\n",
       "  </thead>\n",
       "  <tbody>\n",
       "    <tr>\n",
       "      <th>0</th>\n",
       "      <td>rank_adp</td>\n",
       "      <td>83.202646</td>\n",
       "    </tr>\n",
       "    <tr>\n",
       "      <th>1</th>\n",
       "      <td>avg_adp</td>\n",
       "      <td>83.202646</td>\n",
       "    </tr>\n",
       "  </tbody>\n",
       "</table>\n",
       "</div>"
      ],
      "text/plain": [
       "    feature        VIF\n",
       "0  rank_adp  83.202646\n",
       "1   avg_adp  83.202646"
      ]
     },
     "execution_count": 8,
     "metadata": {},
     "output_type": "execute_result"
    }
   ],
   "source": [
    "vif_data = pd.DataFrame()\n",
    "vif_data[\"feature\"] = X.columns\n",
    "vif_data[\"VIF\"] = [variance_inflation_factor(X.values, i) for i in range(len(X.columns))]\n",
    "\n",
    "vif_data"
   ]
  },
  {
   "cell_type": "code",
   "execution_count": null,
   "id": "115de591",
   "metadata": {},
   "outputs": [],
   "source": []
  }
 ],
 "metadata": {
  "kernelspec": {
   "display_name": "Python 3 (ipykernel)",
   "language": "python",
   "name": "python3"
  },
  "language_info": {
   "codemirror_mode": {
    "name": "ipython",
    "version": 3
   },
   "file_extension": ".py",
   "mimetype": "text/x-python",
   "name": "python",
   "nbconvert_exporter": "python",
   "pygments_lexer": "ipython3",
   "version": "3.8.12"
  },
  "varInspector": {
   "cols": {
    "lenName": 16,
    "lenType": 16,
    "lenVar": 40
   },
   "kernels_config": {
    "python": {
     "delete_cmd_postfix": "",
     "delete_cmd_prefix": "del ",
     "library": "var_list.py",
     "varRefreshCmd": "print(var_dic_list())"
    },
    "r": {
     "delete_cmd_postfix": ") ",
     "delete_cmd_prefix": "rm(",
     "library": "var_list.r",
     "varRefreshCmd": "cat(var_dic_list()) "
    }
   },
   "types_to_exclude": [
    "module",
    "function",
    "builtin_function_or_method",
    "instance",
    "_Feature"
   ],
   "window_display": false
  }
 },
 "nbformat": 4,
 "nbformat_minor": 5
}
